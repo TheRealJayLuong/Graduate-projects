{
 "cells": [
  {
   "cell_type": "code",
   "execution_count": 1,
   "metadata": {},
   "outputs": [],
   "source": [
    "from IPython.display import clear_output\n",
    "# display the board game\n",
    "def display_board(board):\n",
    "    clear_output()\n",
    "    print(board[7]+ '|' + board[8] + '|' +board[9])\n",
    "    print(board[4]+ '|' + board[5] + '|' +board[6])\n",
    "    print(board[1]+ '|' + board[2] + '|' +board[3])\n",
    "    \n",
    "    \n"
   ]
  },
  {
   "cell_type": "code",
   "execution_count": 2,
   "metadata": {},
   "outputs": [
    {
     "name": "stdout",
     "output_type": "stream",
     "text": [
      "X|O|X\n",
      "O|X|O\n",
      "X|O|X\n"
     ]
    }
   ],
   "source": [
    "# testing board game output\n",
    "test_board = test_board = ['#','X','O','X','O','X','O','X','O','X']\n",
    "display_board(test_board)\n"
   ]
  },
  {
   "cell_type": "code",
   "execution_count": 3,
   "metadata": {},
   "outputs": [],
   "source": [
    "def player_input():\n",
    "    mark = ''\n",
    "    # KEEP ASKING PLAYER TO HAVE THE RIGHT IPUT\n",
    "    while mark != 'X' and mark != 'O':\n",
    "            mark = input(\"Please enter 'X' or 'O': \").upper()\n",
    "            \n",
    "            #Assign player 2, the opposite maker\n",
    "            \n",
    "    if mark == 'X':\n",
    "        return ('X', 'O')\n",
    "    else:\n",
    "        return ('O', 'X')\n",
    "   \n",
    "    \n"
   ]
  },
  {
   "cell_type": "code",
   "execution_count": 4,
   "metadata": {},
   "outputs": [
    {
     "name": "stdout",
     "output_type": "stream",
     "text": [
      "Please enter 'X' or 'O': x\n"
     ]
    },
    {
     "data": {
      "text/plain": [
       "('X', 'O')"
      ]
     },
     "execution_count": 4,
     "metadata": {},
     "output_type": "execute_result"
    }
   ],
   "source": [
    "player_input()"
   ]
  },
  {
   "cell_type": "code",
   "execution_count": 5,
   "metadata": {},
   "outputs": [],
   "source": [
    "def storing_data(board,maker,position):\n",
    "    \n",
    "    board[position] = maker\n",
    "        \n",
    "        "
   ]
  },
  {
   "cell_type": "code",
   "execution_count": 6,
   "metadata": {},
   "outputs": [
    {
     "data": {
      "text/plain": [
       "['#', 'X', 'O', 'X', 'O', 'X', 'O', 'X', 'O', 'X']"
      ]
     },
     "execution_count": 6,
     "metadata": {},
     "output_type": "execute_result"
    }
   ],
   "source": [
    "test_board"
   ]
  },
  {
   "cell_type": "code",
   "execution_count": 7,
   "metadata": {},
   "outputs": [
    {
     "name": "stdout",
     "output_type": "stream",
     "text": [
      "X|$|X\n",
      "O|X|O\n",
      "X|O|X\n"
     ]
    }
   ],
   "source": [
    "storing_data(test_board,'$',8)\n",
    "display_board(test_board)"
   ]
  },
  {
   "cell_type": "code",
   "execution_count": 8,
   "metadata": {},
   "outputs": [],
   "source": [
    "def win_check(board,mark):\n",
    "    \n",
    "    # WIN TIC TAC TOE?\n",
    "    return ((board[7] == mark and board[8] == mark and board[9] == mark) or # acorss the top row\n",
    "    (board[4] == mark and board[5] == mark and board[6] == mark) or # across the middle row\n",
    "    (board[1] == mark and board[2] == mark and board[3] == mark) or # across the bottom row\n",
    "    (board[7] == mark and board[4] == mark and board[1] == mark) or # across the first column\n",
    "    (board[8] == mark and board[5] == mark and board[2] == mark) or # across the second column\n",
    "    (board[9] == mark and board[6] == mark and board[3] == mark) or # across the third column\n",
    "    (board[7] == mark and board[5] == mark and board[3] == mark) or # diagonal \n",
    "    (board[9] == mark and board[5] == mark and board[1] == mark)) # diagonal\n",
    "\n",
    "\n",
    "    "
   ]
  },
  {
   "cell_type": "code",
   "execution_count": 9,
   "metadata": {},
   "outputs": [
    {
     "name": "stdout",
     "output_type": "stream",
     "text": [
      "X|$|X\n",
      "O|X|O\n",
      "X|O|X\n"
     ]
    }
   ],
   "source": [
    "win_check(test_board,'X')\n",
    "display_board(test_board)"
   ]
  },
  {
   "cell_type": "code",
   "execution_count": 10,
   "metadata": {},
   "outputs": [],
   "source": [
    "import random\n",
    "\n",
    "def choose_first():\n",
    "    \n",
    "    #CREATE A RANDOM TO CHECK WHICH PLAYER GO 1ST\n",
    "    \n",
    "    flip = random.randint(0,1)\n",
    "    if flip == 0:\n",
    "        return 'Player 1'\n",
    "    else:\n",
    "        return 'Player 2'"
   ]
  },
  {
   "cell_type": "code",
   "execution_count": 11,
   "metadata": {},
   "outputs": [],
   "source": [
    "def space_check(board, position):\n",
    "    \n",
    "    # CHECKING SPACE AVAILABLE IN BOARD \n",
    "    \n",
    "    return board[position] == ' '\n",
    "    "
   ]
  },
  {
   "cell_type": "code",
   "execution_count": 12,
   "metadata": {},
   "outputs": [],
   "source": [
    "def full_board_check(board):\n",
    "    \n",
    "    # CHECKING IF THE BOARD IS FULL\n",
    "    \n",
    "    for i in range (1,10):\n",
    "        if space_check(board,i):\n",
    "            return False # BOARD NOT FULL RETURN FALSE\n",
    "        #BOARD IS FULL IS WE RETURN TRUE\n",
    "    return True"
   ]
  },
  {
   "cell_type": "code",
   "execution_count": 13,
   "metadata": {},
   "outputs": [],
   "source": [
    "def player_choice(board):\n",
    "    \n",
    "    position = 0 \n",
    "    while position not in [1,2,3,4,5,6,7,8,9] or not space_check(board,position):\n",
    "        position = int(input('Please enter the number \"1-9\": '))\n",
    "    \n",
    "    return position\n",
    "    "
   ]
  },
  {
   "cell_type": "code",
   "execution_count": 14,
   "metadata": {},
   "outputs": [],
   "source": [
    "def replay():\n",
    "    choice = input('Wanna play again: \"Y\" or \"N\": ').upper()\n",
    "    return choice == \"Y\""
   ]
  },
  {
   "cell_type": "code",
   "execution_count": null,
   "metadata": {},
   "outputs": [
    {
     "name": "stdout",
     "output_type": "stream",
     "text": [
      "X|O|O\n",
      "X|O|X\n",
      "O|X|O\n",
      "Player 2 has won!\n"
     ]
    }
   ],
   "source": [
    "print(\"Welcome to TIC TAC TOE GAME!\")\n",
    "\n",
    "while True:\n",
    "    \n",
    "    #PLAYING GAME\n",
    "    \n",
    "    # SET UP THE BOARD, WHO PLAY FIRST, CHOOSE MAKER X,O\n",
    "    the_board = [' ']*10\n",
    "    player1_maker,player2_maker = player_input()\n",
    "    \n",
    "    turn = choose_first()\n",
    "    print(turn + ' will go first')\n",
    "    \n",
    "    play_game = input(\"Ready to play 'Y' or 'N': \").upper()\n",
    "    \n",
    "    if play_game == 'Y':\n",
    "        game_on = True\n",
    "    else:\n",
    "        game_on = False\n",
    "    \n",
    "    \n",
    "    # GAME PLAY\n",
    "    \n",
    "    while game_on:\n",
    "        if turn == \"Player 1\":\n",
    "                        \n",
    "            #SHOW THE BOARD\n",
    "            display_board(the_board)\n",
    "            #CHOOSE THE POSITION\n",
    "            position = player_choice(the_board)\n",
    "            #PLACE THE MAKER ON THAT POSITION\n",
    "            storing_data(the_board,player1_maker,position)\n",
    "            #CHECK IF THEY WON\n",
    "            if win_check(the_board,player1_maker):\n",
    "                display_board(the_board)\n",
    "                print(\"Player 1 has won!\")\n",
    "                game_on = False\n",
    "            else:\n",
    "                if full_board_check(the_board):\n",
    "                    display_board(the_board)\n",
    "                    print(\"Game Tie!\")\n",
    "                    game_on = False\n",
    "                else:\n",
    "                    turn = \"Player 2\"\n",
    "        \n",
    "        else:\n",
    "            #SHOW THE BOARD\n",
    "            display_board(the_board)\n",
    "            #CHOOSE THE POSITION\n",
    "            position = player_choice(the_board)\n",
    "            #PLACE THE MAKER ON THAT POSITION\n",
    "            storing_data(the_board,player2_maker,position)\n",
    "            #CHECK IF THEY WON\n",
    "            if win_check(the_board,player2_maker):\n",
    "                display_board(the_board)\n",
    "                print(\"Player 2 has won!\")\n",
    "                game_on = False\n",
    "            else:\n",
    "                if full_board_check(the_board):\n",
    "                    display_board(the_board)\n",
    "                    print(\"Game Tie!\")\n",
    "                    game_on = False\n",
    "                else:\n",
    "                    turn = \"Player 1\"\n",
    "                    \n",
    "    \n",
    "    if not replay():\n",
    "        break\n",
    "    #BREAK OUT THE WHILE LOOP ON REPLAY()\n",
    "            \n",
    "            \n",
    "    \n",
    "        "
   ]
  },
  {
   "cell_type": "code",
   "execution_count": null,
   "metadata": {},
   "outputs": [],
   "source": []
  },
  {
   "cell_type": "code",
   "execution_count": null,
   "metadata": {},
   "outputs": [],
   "source": []
  },
  {
   "cell_type": "code",
   "execution_count": null,
   "metadata": {},
   "outputs": [],
   "source": []
  }
 ],
 "metadata": {
  "kernelspec": {
   "display_name": "Python 3",
   "language": "python",
   "name": "python3"
  },
  "language_info": {
   "codemirror_mode": {
    "name": "ipython",
    "version": 3
   },
   "file_extension": ".py",
   "mimetype": "text/x-python",
   "name": "python",
   "nbconvert_exporter": "python",
   "pygments_lexer": "ipython3",
   "version": "3.7.6"
  }
 },
 "nbformat": 4,
 "nbformat_minor": 4
}
